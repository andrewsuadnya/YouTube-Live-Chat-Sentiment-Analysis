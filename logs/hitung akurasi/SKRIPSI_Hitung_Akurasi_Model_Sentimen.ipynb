{
  "cells": [
    {
      "cell_type": "code",
      "execution_count": 1,
      "metadata": {
        "colab": {
          "base_uri": "https://localhost:8080/",
          "height": 654
        },
        "id": "_nv5AKEKLJ3-",
        "outputId": "f2934b0a-cc31-4bbb-83cd-bc341dcf71be"
      },
      "outputs": [
        {
          "name": "stderr",
          "output_type": "stream",
          "text": [
            "c:\\Users\\Andrew\\anaconda3\\envs\\andrew\\lib\\site-packages\\pandas\\core\\computation\\expressions.py:21: UserWarning: Pandas requires version '2.8.4' or newer of 'numexpr' (version '2.7.3' currently installed).\n",
            "  from pandas.core.computation.check import NUMEXPR_INSTALLED\n"
          ]
        },
        {
          "ename": "ModuleNotFoundError",
          "evalue": "No module named 'seaborn'",
          "output_type": "error",
          "traceback": [
            "\u001b[1;31m---------------------------------------------------------------------------\u001b[0m",
            "\u001b[1;31mModuleNotFoundError\u001b[0m                       Traceback (most recent call last)",
            "Cell \u001b[1;32mIn[1], line 3\u001b[0m\n\u001b[0;32m      1\u001b[0m \u001b[38;5;28;01mimport\u001b[39;00m \u001b[38;5;21;01mpandas\u001b[39;00m \u001b[38;5;28;01mas\u001b[39;00m \u001b[38;5;21;01mpd\u001b[39;00m\n\u001b[0;32m      2\u001b[0m \u001b[38;5;28;01mfrom\u001b[39;00m \u001b[38;5;21;01msklearn\u001b[39;00m\u001b[38;5;21;01m.\u001b[39;00m\u001b[38;5;21;01mmetrics\u001b[39;00m \u001b[38;5;28;01mimport\u001b[39;00m classification_report, confusion_matrix\n\u001b[1;32m----> 3\u001b[0m \u001b[38;5;28;01mimport\u001b[39;00m \u001b[38;5;21;01mseaborn\u001b[39;00m \u001b[38;5;28;01mas\u001b[39;00m \u001b[38;5;21;01msns\u001b[39;00m; \u001b[38;5;28;01mimport\u001b[39;00m \u001b[38;5;21;01mmatplotlib\u001b[39;00m\u001b[38;5;21;01m.\u001b[39;00m\u001b[38;5;21;01mpyplot\u001b[39;00m \u001b[38;5;28;01mas\u001b[39;00m \u001b[38;5;21;01mplt\u001b[39;00m\n\u001b[0;32m      5\u001b[0m \u001b[38;5;66;03m# Filepath ke file CSV\u001b[39;00m\n\u001b[0;32m      6\u001b[0m predicted_file \u001b[38;5;241m=\u001b[39m \u001b[38;5;124mr\u001b[39m\u001b[38;5;124m\"\u001b[39m\u001b[38;5;124msample_data/sentiment.csv\u001b[39m\u001b[38;5;124m\"\u001b[39m\n",
            "\u001b[1;31mModuleNotFoundError\u001b[0m: No module named 'seaborn'"
          ]
        }
      ],
      "source": [
        "import pandas as pd\n",
        "from sklearn.metrics import classification_report, confusion_matrix\n",
        "import seaborn as sns; import matplotlib.pyplot as plt\n",
        "\n",
        "# Filepath ke file CSV\n",
        "predicted_file = r\"sample_data/sentiment.csv\"\n",
        "manual_file = r\"sample_data/manual_labelling.csv\"\n",
        "\n",
        "# Membaca file CSV\n",
        "predicted_data = pd.read_csv(predicted_file)\n",
        "manual_data = pd.read_csv(manual_file)\n",
        "\n",
        "# Pastikan kedua file memiliki jumlah baris yang sama\n",
        "if len(predicted_data) != len(manual_data):\n",
        "    raise ValueError(f\"Jumlah baris pada hasil sentiment ({len(predicted_data)}) dan manual labelling ({len(manual_data)}) tidak sama!\")\n",
        "\n",
        "# Membandingkan kolom 'final_sentiment'\n",
        "predicted_sentiments = predicted_data['textblob_sentiment']\n",
        "manual_sentiments = manual_data['true_sentiment']\n",
        "\n",
        "# Menghasilkan classification report\n",
        "report = classification_report(manual_sentiments, predicted_sentiments, target_names=['negative', 'neutral', 'positive'], digits=4) #tambah atau hapus digits=4 kalau nda mo selia/nda 4 angka belakang koma\n",
        "print(report)\n",
        "\n",
        "# Membuat dan menampilkan confusion matrix\n",
        "cm = confusion_matrix(manual_sentiments, predicted_sentiments)\n",
        "\n",
        "# Visualisasi confusion matrix\n",
        "classes = ['negative', 'neutral', 'positive']\n",
        "sns.heatmap(cm, annot=True, fmt='d', cmap='Blues', xticklabels=classes, yticklabels=classes)\n",
        "plt.xlabel('Predicted')\n",
        "plt.ylabel('Actual')\n",
        "plt.title('Confusion Matrix')\n",
        "plt.show()"
      ]
    }
  ],
  "metadata": {
    "colab": {
      "provenance": []
    },
    "kernelspec": {
      "display_name": "andrew",
      "language": "python",
      "name": "python3"
    },
    "language_info": {
      "codemirror_mode": {
        "name": "ipython",
        "version": 3
      },
      "file_extension": ".py",
      "mimetype": "text/x-python",
      "name": "python",
      "nbconvert_exporter": "python",
      "pygments_lexer": "ipython3",
      "version": "3.10.0"
    }
  },
  "nbformat": 4,
  "nbformat_minor": 0
}
